{
 "cells": [
  {
   "cell_type": "code",
   "execution_count": 30,
   "id": "e7d94a84-d8ef-4d5a-b657-563b64a4c4af",
   "metadata": {},
   "outputs": [],
   "source": [
    "import pyspark\n",
    "from pyspark.sql import SparkSession\n",
    "from pyspark.sql.functions import col, avg, count, year, explode, lower, size, array_contains\n",
    "from pymongo import MongoClient\n",
    "import findspark\n",
    "import pandas as pd\n",
    "import matplotlib.pyplot as plt\n",
    "import seaborn as sns"
   ]
  },
  {
   "cell_type": "code",
   "execution_count": 2,
   "id": "86616baf-afcf-4906-9fa0-e82777a6c041",
   "metadata": {},
   "outputs": [
    {
     "name": "stdout",
     "output_type": "stream",
     "text": [
      "C:\\Users\\linl8\\AppData\\Local\\Programs\\Python\\Python313\\python.exe\n"
     ]
    }
   ],
   "source": [
    "import sys\n",
    "print(sys.executable)"
   ]
  },
  {
   "cell_type": "code",
   "execution_count": 3,
   "id": "9cbc7691-578c-46be-a835-646731cde99a",
   "metadata": {},
   "outputs": [],
   "source": [
    "# Connect to MongoDB\n",
    "client = MongoClient(\"localhost\", 27017)\n",
    "db = client[\"project\"]\n",
    "\n",
    "genre_col = db[\"Genre\"]\n",
    "movies_col = db[\"Movies\"]\n",
    "spotify_col = db[\"Spotify_Data\"]\n",
    "spotify_clean_col = db[\"Spotify_Data_Clean\"]"
   ]
  },
  {
   "cell_type": "code",
   "execution_count": 4,
   "id": "638bb925-0e1d-4a2b-879f-eaa066ac6638",
   "metadata": {},
   "outputs": [],
   "source": [
    "import os\n",
    "\n",
    "# Set up full environment\n",
    "os.environ[\"SPARK_HOME\"] = \"C:\\\\spark\"\n",
    "os.environ[\"HADOOP_HOME\"] = \"C:\\\\spark\"\n",
    "os.environ[\"JAVA_HOME\"] = \"C:\\\\Program Files\\\\Java\\\\jdk-1.8\" \n",
    "os.environ[\"PATH\"] = f\"{os.environ['SPARK_HOME']}\\\\bin;{os.environ['JAVA_HOME']}\\\\bin;\" + os.environ[\"PATH\"]\n",
    "\n",
    "os.environ[\"PYSPARK_PYTHON\"] = \"C:\\\\Users\\\\linl8\\\\AppData\\\\Local\\\\Programs\\\\Python\\\\Python313\\\\python.exe\"\n",
    "os.environ[\"PYSPARK_DRIVER_PYTHON\"] = \"C:\\\\Users\\\\linl8\\\\AppData\\\\Local\\\\Programs\\\\Python\\\\Python313\\\\python.exe\"\n"
   ]
  },
  {
   "cell_type": "code",
   "execution_count": 5,
   "id": "3a80c2ed-5273-488c-9d9e-ba501ca5dd41",
   "metadata": {},
   "outputs": [],
   "source": [
    "from pyspark.sql import SparkSession\n",
    "\n",
    "spark = SparkSession.builder \\\n",
    "    .appName(\"MongoSparkConnector\") \\\n",
    "    .master(\"local[*]\") \\\n",
    "    .config(\"spark.jars\", \",\".join([\n",
    "        \"file:///C:/spark/jars/mongo-spark-connector_2.12-3.0.1.jar\",\n",
    "        \"file:///C:/spark/jars/mongodb-driver-sync-4.2.3.jar\",\n",
    "        \"file:///C:/spark/jars/mongodb-driver-core-4.2.3.jar\",\n",
    "        \"file:///C:/spark/jars/bson-4.2.3.jar\"\n",
    "    ])) \\\n",
    "    .config(\"spark.mongodb.input.uri\", \"mongodb://localhost:27017/project\") \\\n",
    "    .getOrCreate()"
   ]
  },
  {
   "cell_type": "code",
   "execution_count": 6,
   "id": "7d4c168f-cf90-4750-b1fe-87d5f3b5af15",
   "metadata": {},
   "outputs": [
    {
     "data": {
      "text/html": [
       "\n",
       "            <div>\n",
       "                <p><b>SparkSession - in-memory</b></p>\n",
       "                \n",
       "        <div>\n",
       "            <p><b>SparkContext</b></p>\n",
       "\n",
       "            <p><a href=\"http://LAPTOP-9570D4UM.lan:4040\">Spark UI</a></p>\n",
       "\n",
       "            <dl>\n",
       "              <dt>Version</dt>\n",
       "                <dd><code>v3.5.5</code></dd>\n",
       "              <dt>Master</dt>\n",
       "                <dd><code>local[*]</code></dd>\n",
       "              <dt>AppName</dt>\n",
       "                <dd><code>MongoSparkConnector</code></dd>\n",
       "            </dl>\n",
       "        </div>\n",
       "        \n",
       "            </div>\n",
       "        "
      ],
      "text/plain": [
       "<pyspark.sql.session.SparkSession at 0x2be8c3067b0>"
      ]
     },
     "execution_count": 6,
     "metadata": {},
     "output_type": "execute_result"
    }
   ],
   "source": [
    "spark"
   ]
  },
  {
   "cell_type": "code",
   "execution_count": 7,
   "id": "ff9b2947-e39e-465e-817b-08e81db97799",
   "metadata": {},
   "outputs": [
    {
     "data": {
      "text/plain": [
       "<py4j.java_gateway.JavaPackage at 0x2be8bdf9710>"
      ]
     },
     "execution_count": 7,
     "metadata": {},
     "output_type": "execute_result"
    }
   ],
   "source": [
    "spark._jvm.org.mongodb.spark.MongoSpark"
   ]
  },
  {
   "cell_type": "code",
   "execution_count": 8,
   "id": "2d8c6f3e-deeb-4abf-99ab-5ba84c7004d7",
   "metadata": {},
   "outputs": [],
   "source": [
    "Genre_df = spark.read.format(\"mongo\") \\\n",
    "    .option(\"uri\", \"mongodb://localhost:27017\") \\\n",
    "    .option(\"database\", \"project\") \\\n",
    "    .option(\"collection\", \"Genre\") \\\n",
    "    .load()\n",
    "\n",
    "Movies_df = spark.read.format(\"mongo\") \\\n",
    "    .option(\"uri\", \"mongodb://localhost:27017\") \\\n",
    "    .option(\"database\", \"project\") \\\n",
    "    .option(\"collection\", \"Movies\") \\\n",
    "    .load()\n"
   ]
  },
  {
   "cell_type": "code",
   "execution_count": 9,
   "id": "0d68a9a6-b838-4bde-b007-6adaa563d452",
   "metadata": {
    "scrolled": true
   },
   "outputs": [],
   "source": [
    "def fast_parse(doc):\n",
    "    items = doc.get('album_details', {}).get('tracks', {}).get('items', [])\n",
    "    duration_total = sum(track.get('duration_ms', 0) for track in items)\n",
    "\n",
    "    return {\n",
    "        'Movie_Title': doc.get('movie_title'),\n",
    "        'Soundtrack_Popularity': doc.get('album_details', {}).get('popularity'),\n",
    "        'Total_Tracks': doc.get('album_info', {}).get('total_tracks'),\n",
    "        'Artists': doc.get('album_info', {}).get('artists'),\n",
    "        'Total_Soundtrack_Duration_ms': duration_total\n",
    "    }\n",
    "\n",
    "# Pull, clean, write back\n",
    "# docs = list(spotify_col.find({}, {\"_id\": 0}))\n",
    "# parsed = [fast_parse(d) for d in docs]\n",
    "\n",
    "# Optional: clean artist names before saving\n",
    "def extract_artist_names(artists):\n",
    "    if isinstance(artists, list):\n",
    "        names = []\n",
    "        for artist in artists:\n",
    "            if isinstance(artist, dict):\n",
    "                names.append(artist.get('name', ''))\n",
    "            elif isinstance(artist, str):\n",
    "                names.append(artist)\n",
    "        return ', '.join(filter(None, names))\n",
    "    elif isinstance(artists, dict):\n",
    "        return artists.get('name', '')\n",
    "    elif isinstance(artists, str):\n",
    "        return artists\n",
    "    return ''\n",
    "\n",
    "#for doc in parsed:\n",
    "    #doc[\"Artists\"] = extract_artist_names(doc[\"Artists\"])\n",
    "\n",
    "# Save cleaned data into new MongoDB collection\n",
    "# spotify_clean_col.insert_many(parsed)"
   ]
  },
  {
   "cell_type": "code",
   "execution_count": 10,
   "id": "f61f3366-1527-4ae4-a032-b6fdc438ba49",
   "metadata": {},
   "outputs": [],
   "source": [
    "Spotify_df = spark.read.format(\"mongo\") \\\n",
    "    .option(\"uri\", \"mongodb://localhost:27017\") \\\n",
    "    .option(\"database\", \"project\") \\\n",
    "    .option(\"collection\", \"Spotify_Data_Clean\") \\\n",
    "    .load()"
   ]
  },
  {
   "cell_type": "code",
   "execution_count": 20,
   "id": "d7480ebf-8129-4322-9bb0-0df3258847e9",
   "metadata": {},
   "outputs": [
    {
     "data": {
      "text/plain": [
       "['Action',\n",
       " 'Adventure',\n",
       " 'Animation',\n",
       " 'Comedy',\n",
       " 'Crime',\n",
       " 'Documentary',\n",
       " 'Drama',\n",
       " 'Family',\n",
       " 'Fantasy',\n",
       " 'History',\n",
       " 'Horror',\n",
       " 'Music',\n",
       " 'Mystery',\n",
       " 'Romance',\n",
       " 'Science Fiction',\n",
       " 'TV Movie',\n",
       " 'Thriller',\n",
       " 'War',\n",
       " 'Western']"
      ]
     },
     "execution_count": 20,
     "metadata": {},
     "output_type": "execute_result"
    }
   ],
   "source": [
    "# Get Genre ID by name\n",
    "def get_genre_id(genre_name: str):\n",
    "    genres_df = Genre_df.select(explode(\"genres\").alias(\"genre\"))\n",
    "    result = genres_df.filter(lower(col(\"genre.name\")) == genre_name.lower()).select(\"genre.id\").collect()\n",
    "    return result[0][\"id\"] if result else None\n",
    "\n",
    "def get_all_genre_names():\n",
    "    genres_df = Genre_df.select(explode(\"genres\").alias(\"genre\"))\n",
    "    names = genres_df.select(\"genre.name\").distinct().orderBy(\"genre.name\").collect()\n",
    "    return [row[\"name\"] for row in names]\n",
    "\n",
    "get_all_genre_names()"
   ]
  },
  {
   "cell_type": "code",
   "execution_count": 21,
   "id": "33a2d41b-21c7-4470-8667-a8f4081a9cb5",
   "metadata": {},
   "outputs": [
    {
     "data": {
      "text/plain": [
       "{'Movie_Avg_Rating': 4.1488339724791325,\n",
       " 'Movie_Avg_VoteCount': 300.9524926686217,\n",
       " 'Movie_Avg_Popularity': 1.0911748071283565,\n",
       " 'Total_Movie_Counts': 22165}"
      ]
     },
     "execution_count": 21,
     "metadata": {},
     "output_type": "execute_result"
    }
   ],
   "source": [
    "# Average Movie Statistics in Genre\n",
    "def average_stats(genre_id):\n",
    "    filtered = Movies_df.filter(array_contains(col(\"genre_ids\"), genre_id))\n",
    "    \n",
    "    stats = filtered.agg(\n",
    "        avg(\"vote_average\").alias(\"Movie_Avg_Rating\"),\n",
    "        avg(\"vote_count\").alias(\"Movie_Avg_VoteCount\"),\n",
    "        avg(\"popularity\").alias(\"Movie_Avg_Popularity\"),\n",
    "        count(\"*\").alias(\"Total_Movie_Counts\")\n",
    "    ).collect()\n",
    "\n",
    "    return stats[0].asDict() if stats else None\n",
    "average_stats(12)"
   ]
  },
  {
   "cell_type": "code",
   "execution_count": 22,
   "id": "df8e1d73-6b55-4986-8bda-77051d9e2c67",
   "metadata": {},
   "outputs": [
    {
     "name": "stdout",
     "output_type": "stream",
     "text": [
      "+------------+------------------+--------------------+------------------+\n",
      "|release_year|  Movie_Avg_Rating|Movie_Avg_Popularity|Total_Movie_Counts|\n",
      "+------------+------------------+--------------------+------------------+\n",
      "|        1950| 4.237833333333334|  0.5227010416666666|                96|\n",
      "|        1951| 4.295080459770115|  0.5501367816091953|                87|\n",
      "|        1952| 4.132264957264957|  0.4794264957264956|               117|\n",
      "|        1953| 4.367905797101449|  0.5181978260869564|               138|\n",
      "|        1954| 4.288606557377048|  0.5156327868852459|               122|\n",
      "|        1955| 4.589548872180451|  0.3834060150375941|               133|\n",
      "|        1956|3.7004615384615382|  0.5367890109890111|                91|\n",
      "|        1957| 4.240575471698113|  0.3596688679245282|               106|\n",
      "|        1958| 3.864299270072992| 0.39163138686131377|               137|\n",
      "|        1959| 4.241273972602739|  0.5930130136986308|               146|\n",
      "|        1960|3.6519761904761916|  0.5009015873015874|               126|\n",
      "|        1961|3.9806153846153864| 0.47616923076923096|               169|\n",
      "|        1962|3.8207228915662657|  0.5190560240963853|               166|\n",
      "|        1963|3.9016148648648645|   0.538316891891892|               148|\n",
      "|        1964| 4.401462857142857|  0.4404548571428568|               175|\n",
      "|        1965|3.9843855421686754| 0.42872650602409595|               166|\n",
      "|        1966|4.0875604395604395|  0.4371164835164838|               182|\n",
      "|        1967| 3.928535211267605|  0.4668737089201877|               213|\n",
      "|        1968| 4.053596858638744|    0.50879057591623|               191|\n",
      "|        1969| 3.699534031413614| 0.44379214659685823|               191|\n",
      "+------------+------------------+--------------------+------------------+\n",
      "only showing top 20 rows\n",
      "\n"
     ]
    }
   ],
   "source": [
    "from pyspark.sql.functions import col, array_contains, year, to_date, avg, count\n",
    "\n",
    "# Timeline Data for each genre\n",
    "def genre_timeline(genre_id):\n",
    "    # Filter movies that contain the genre ID and have a valid release_date\n",
    "    filtered = Movies_df.filter(\n",
    "        (array_contains(col(\"genre_ids\"), genre_id)) &\n",
    "        (col(\"release_date\").isNotNull())\n",
    "    )\n",
    "\n",
    "    # Convert release_date to date and extract year\n",
    "    with_year = filtered.withColumn(\"release_year\", year(to_date(col(\"release_date\"), \"yyyy-MM-dd\")))\n",
    "\n",
    "    # Group by year and compute averages and count\n",
    "    result = with_year.groupBy(\"release_year\").agg(\n",
    "        avg(\"vote_average\").alias(\"Movie_Avg_Rating\"),\n",
    "        avg(\"popularity\").alias(\"Movie_Avg_Popularity\"),\n",
    "        count(\"*\").alias(\"Total_Movie_Counts\")\n",
    "    ).orderBy(\"release_year\")\n",
    "\n",
    "    return result\n",
    "\n",
    "timeline_df = genre_timeline(12)\n",
    "timeline_df.show()"
   ]
  },
  {
   "cell_type": "code",
   "execution_count": 25,
   "id": "83cec5be-345d-420c-a345-c2b36dcb43e0",
   "metadata": {},
   "outputs": [
    {
     "data": {
      "text/plain": [
       "[{'vote_average': 8.482,\n",
       "  'vote_count': 24966,\n",
       "  'Movie_Title': 'The Lord of the Rings: The Return of the King',\n",
       "  'Soundtrack_Popularity': 61.0,\n",
       "  'Total_Tracks': 53.0,\n",
       "  'Total_Soundtrack_Duration_ms': 12844690.0,\n",
       "  'Artists': 'The Lord Of The Rings - The Return Of The King - The Complete Recordings',\n",
       "  'corr': 0.572431782822588},\n",
       " {'vote_average': 8.454,\n",
       "  'vote_count': 36942,\n",
       "  'Movie_Title': 'Interstellar',\n",
       "  'Soundtrack_Popularity': 75.0,\n",
       "  'Total_Tracks': 30.0,\n",
       "  'Total_Soundtrack_Duration_ms': 8362282.0,\n",
       "  'Artists': 'Hans Zimmer',\n",
       "  'corr': 0.572431782822588},\n",
       " {'vote_average': 8.419,\n",
       "  'vote_count': 25867,\n",
       "  'Movie_Title': 'The Lord of the Rings: The Fellowship of the Ring',\n",
       "  'Soundtrack_Popularity': 66.0,\n",
       "  'Total_Tracks': 18.0,\n",
       "  'Total_Soundtrack_Duration_ms': 4287755.0,\n",
       "  'Artists': 'Howard Shore',\n",
       "  'corr': 0.572431782822588},\n",
       " {'vote_average': 8.403,\n",
       "  'vote_count': 22475,\n",
       "  'Movie_Title': 'The Lord of the Rings: The Two Towers',\n",
       "  'Soundtrack_Popularity': 60.0,\n",
       "  'Total_Tracks': 20.0,\n",
       "  'Total_Soundtrack_Duration_ms': 4643129.0,\n",
       "  'Artists': 'Howard Shore',\n",
       "  'corr': 0.572431782822588},\n",
       " {'vote_average': 8.397,\n",
       "  'vote_count': 10231,\n",
       "  'Movie_Title': \"Howl's Moving Castle\",\n",
       "  'Soundtrack_Popularity': 65.0,\n",
       "  'Total_Tracks': 26.0,\n",
       "  'Total_Soundtrack_Duration_ms': 4145725.0,\n",
       "  'Artists': 'Joe Hisaishi',\n",
       "  'corr': 0.572431782822588},\n",
       " {'vote_average': 8.397,\n",
       "  'vote_count': 16061,\n",
       "  'Movie_Title': 'Spider-Man: Into the Spider-Verse',\n",
       "  'Soundtrack_Popularity': 78.0,\n",
       "  'Total_Tracks': 13.0,\n",
       "  'Total_Soundtrack_Duration_ms': 2501943.0,\n",
       "  'Artists': 'Various Artists',\n",
       "  'corr': 0.572431782822588},\n",
       " {'vote_average': 8.392,\n",
       "  'vote_count': 17319,\n",
       "  'Movie_Title': 'The Empire Strikes Back',\n",
       "  'Soundtrack_Popularity': 56.0,\n",
       "  'Total_Tracks': 17.0,\n",
       "  'Total_Soundtrack_Duration_ms': 4412007.0,\n",
       "  'Artists': 'John Williams',\n",
       "  'corr': 0.572431782822588},\n",
       " {'vote_average': 8.368,\n",
       "  'vote_count': 37341,\n",
       "  'Movie_Title': 'Inception',\n",
       "  'Soundtrack_Popularity': 66.0,\n",
       "  'Total_Tracks': 12.0,\n",
       "  'Total_Soundtrack_Duration_ms': 2960539.0,\n",
       "  'Artists': 'Hans Zimmer',\n",
       "  'corr': 0.572431782822588},\n",
       " {'vote_average': 8.3,\n",
       "  'vote_count': 20432,\n",
       "  'Movie_Title': 'Back to the Future',\n",
       "  'Soundtrack_Popularity': 47.0,\n",
       "  'Total_Tracks': 10.0,\n",
       "  'Total_Soundtrack_Duration_ms': 2261583.0,\n",
       "  'Artists': 'Various Artists',\n",
       "  'corr': 0.572431782822588},\n",
       " {'vote_average': 8.218,\n",
       "  'vote_count': 19572,\n",
       "  'Movie_Title': 'Gladiator',\n",
       "  'Soundtrack_Popularity': 54.0,\n",
       "  'Total_Tracks': 17.0,\n",
       "  'Total_Soundtrack_Duration_ms': 3698298.0,\n",
       "  'Artists': 'Lisa Gerrard',\n",
       "  'corr': 0.572431782822588}]"
      ]
     },
     "execution_count": 25,
     "metadata": {},
     "output_type": "execute_result"
    }
   ],
   "source": [
    "# Get the top 10 rated movie for specific genre\n",
    "def get_top_10_movies(genre_id):\n",
    "    # Get top movies by genre\n",
    "    top_movies_df = Movies_df.filter(\n",
    "        (array_contains(col(\"genre_ids\"), genre_id)) &\n",
    "        (col(\"vote_count\") > 10000)\n",
    "    ).select(\"title\", \"vote_average\", \"vote_count\") \\\n",
    "     .orderBy(col(\"vote_average\").desc()) \\\n",
    "     .limit(25)\n",
    "\n",
    "    # Collect movie titles\n",
    "    top_titles = [row['title'].lower() for row in top_movies_df.collect()]\n",
    "\n",
    "    #  Filter soundtracks that match top titles\n",
    "    filtered_soundtracks = Spotify_df \\\n",
    "        .withColumn(\"title_lower\", lower(col(\"Movie_Title\"))) \\\n",
    "        .filter(lower(col(\"Movie_Title\")).isin(top_titles)) \\\n",
    "        .select(\"Movie_Title\", \"Soundtrack_Popularity\", \"Total_Tracks\", \"Total_Soundtrack_Duration_ms\", \"Artists\")\n",
    "\n",
    "    # Convert both to pandas\n",
    "    top_movies_pd = top_movies_df.toPandas()\n",
    "    soundtracks_pd = filtered_soundtracks.toPandas()\n",
    "\n",
    "    # Prepare for join\n",
    "    top_movies_pd[\"title_lower\"] = top_movies_pd[\"title\"].str.lower()\n",
    "    soundtracks_pd[\"title_lower\"] = soundtracks_pd[\"Movie_Title\"].str.lower()\n",
    "\n",
    "    # Merge, drop NaNs, and drop duplicates\n",
    "    merged = pd.merge(top_movies_pd, soundtracks_pd, on=\"title_lower\", how=\"left\")\n",
    "    merged = merged.dropna()\n",
    "    merged = merged.drop_duplicates(subset=[\"title\"])\n",
    "    merged = merged.sort_values(by=\"vote_average\", ascending=False).head(10)\n",
    "    corr = merged['vote_average'].corr(merged['Soundtrack_Popularity'])\n",
    "\n",
    "    return merged.drop(columns=[\"title_lower\", \"title\"]).to_dict(\"records\")\n",
    "    \n",
    "get_top_10_movies(12)"
   ]
  },
  {
   "cell_type": "code",
   "execution_count": 34,
   "id": "de956c76-d26f-4aa9-9c00-4fe9ddbd4a17",
   "metadata": {},
   "outputs": [
    {
     "name": "stdout",
     "output_type": "stream",
     "text": [
      "Correlation between movie rating and soundtrack popularity: 0.572\n"
     ]
    },
    {
     "data": {
      "image/png": "[encoded data removed]",
      "text/plain": [
       "<Figure size 600x400 with 1 Axes>"
      ]
     },
     "metadata": {},
     "output_type": "display_data"
    }
   ],
   "source": [
    "merged_list = get_top_10_movies(12)\n",
    "merged_df = pd.DataFrame(merged_list)\n",
    "correlation = merged_df['vote_average'].corr(merged_df['Soundtrack_Popularity'])\n",
    "print(f\"Correlation between movie rating and soundtrack popularity: {correlation:.3f}\")\n",
    "\n",
    "plt.figure(figsize=(6, 4))\n",
    "sns.regplot(x='vote_average', y='Soundtrack_Popularity', data=merged_df)\n",
    "plt.title(\"Movie Rating vs Soundtrack Popularity in Genre of Adventure\")\n",
    "plt.xlabel(\"Average Movie Rating\")\n",
    "plt.ylabel(\"Soundtrack Popularity\")\n",
    "plt.tight_layout()\n",
    "plt.figtext(0.5, -0.1, f\"Correlation coefficient: {correlation:.3f}\", wrap=True, ha='center', fontsize=10)\n",
    "plt.show()"
   ]
  },
  {
   "cell_type": "code",
   "execution_count": 26,
   "id": "1705ae9d-c6f0-4215-84ab-a85dfb84d4d5",
   "metadata": {},
   "outputs": [
    {
     "data": {
      "text/plain": [
       "12.09"
      ]
     },
     "execution_count": 26,
     "metadata": {},
     "output_type": "execute_result"
    }
   ],
   "source": [
    "# Find the average soundtrack aount for specific genre\n",
    "def average_soundtrack_amount(genre_id):\n",
    "    # Lowercase movie titles\n",
    "    movies = Movies_df.withColumn(\"title_lower\", lower(col(\"title\")))\n",
    "    soundtracks = Spotify_df.withColumn(\"title_lower\", lower(col(\"Movie_Title\")))\n",
    "\n",
    "    # Filter movies by genre\n",
    "    filtered_movies = movies.filter(array_contains(col(\"genre_ids\"), genre_id))\n",
    "\n",
    "    # Join with soundtrack data on title_lower\n",
    "    joined = filtered_movies.join(\n",
    "        soundtracks.select(\"title_lower\", \"Total_Tracks\"),\n",
    "        on=\"title_lower\",\n",
    "        how=\"inner\"\n",
    "    )\n",
    "\n",
    "    # Calculate average number of tracks\n",
    "    if joined.rdd.isEmpty():\n",
    "        return 0\n",
    "    avg_tracks_row = joined.agg(avg(\"Total_Tracks\").alias(\"avg_tracks\")).first()\n",
    "\n",
    "    return round(avg_tracks_row[\"avg_tracks\"], 2) if avg_tracks_row[\"avg_tracks\"] is not None else None\n",
    "    \n",
    "average_soundtrack_amount(12)"
   ]
  },
  {
   "cell_type": "code",
   "execution_count": 29,
   "id": "cd72e930-0eb8-4879-a95a-2e952f5da1b3",
   "metadata": {},
   "outputs": [],
   "source": [
    "from pyspark.sql.functions import lower, explode, split, array_contains, col, count, trim\n",
    "\n",
    "def get_top_composers(genre_id):\n",
    "    # Lowercase titles\n",
    "    movies = Movies_df.withColumn(\"title_lower\", lower(col(\"title\")))\n",
    "    soundtracks = Spotify_df.withColumn(\"title_lower\", lower(col(\"Movie_Title\")))\n",
    "\n",
    "    # Filter movies by genre\n",
    "    filtered_movies = movies.filter(array_contains(col(\"genre_ids\"), genre_id)) \\\n",
    "                            .select(\"title_lower\")\n",
    "\n",
    "    # Join with soundtracks\n",
    "    joined = filtered_movies.join(\n",
    "        soundtracks.select(\"title_lower\", \"Artists\"),\n",
    "        on=\"title_lower\",\n",
    "        how=\"inner\"\n",
    "    ).filter(col(\"Artists\").isNotNull())\n",
    "\n",
    "    # Split and explode artists\n",
    "    exploded = joined.withColumn(\"Composer\", explode(split(col(\"Artists\"), \",\")))\n",
    "    cleaned = exploded.withColumn(\"Composer\", trim(col(\"Composer\")))\n",
    "\n",
    "    # Group and count\n",
    "    ranked = cleaned.groupBy(\"Composer\").agg(count(\"*\").alias(\"count\")) \\\n",
    "                    .orderBy(col(\"count\").desc()) \\\n",
    "                    .limit(5)\n",
    "\n",
    "    return ranked.toPandas().to_dict(\"records\")\n"
   ]
  },
  {
   "cell_type": "code",
   "execution_count": null,
   "id": "bac490fd-8c66-42d0-972e-4eb18bb2cd73",
   "metadata": {},
   "outputs": [],
   "source": []
  }
 ],
 "metadata": {
  "kernelspec": {
   "display_name": "Python 3 (ipykernel)",
   "language": "python",
   "name": "python3"
  },
  "language_info": {
   "codemirror_mode": {
    "name": "ipython",
    "version": 3
   },
   "file_extension": ".py",
   "mimetype": "text/x-python",
   "name": "python",
   "nbconvert_exporter": "python",
   "pygments_lexer": "ipython3",
   "version": "3.13.3"
  }
 },
 "nbformat": 4,
 "nbformat_minor": 5
}
